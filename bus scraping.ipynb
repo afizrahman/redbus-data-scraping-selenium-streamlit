{
 "cells": [
  {
   "cell_type": "code",
   "execution_count": 46,
   "id": "61d55d6f",
   "metadata": {},
   "outputs": [],
   "source": [
    "# importing libraries\n",
    "from selenium import webdriver\n",
    "from selenium.webdriver.common.keys import Keys\n",
    "from selenium.webdriver.common.action_chains import ActionChains\n",
    "from selenium.webdriver.common.by import By\n",
    "import time\n",
    "from selenium.webdriver.support.ui import WebDriverWait\n",
    "from selenium.webdriver.support import expected_conditions as EC\n",
    "from selenium.common.exceptions import TimeoutException, NoSuchElementException \n",
    "import pandas as pd"
   ]
  },
  {
   "cell_type": "code",
   "execution_count": 47,
   "id": "44176c47",
   "metadata": {},
   "outputs": [],
   "source": [
    "# 10 state links\n",
    "state_links = [\"https://www.redbus.in/online-booking/ksrtc-kerala/?utm_source=rtchometile\",\n",
    "               \"https://www.redbus.in/online-booking/apsrtc/?utm_source=rtchometile\",\n",
    "               \"https://www.redbus.in/online-booking/ktcl/?utm_source=rtchometile\",\n",
    "               \"https://www.redbus.in/online-booking/tsrtc/?utm_source=rtchometile\",\n",
    "               \"https://www.redbus.in/online-booking/rsrtc/?utm_source=rtchometile\",\n",
    "               \"https://www.redbus.in/online-booking/south-bengal-state-transport-corporation-sbstc/?utm_source=rtchometile\",\n",
    "               \"https://www.redbus.in/online-booking/hrtc/?utm_source=rtchometile\",\n",
    "               \"https://www.redbus.in/online-booking/astc/?utm_source=rtchometile\",\n",
    "               \"https://www.redbus.in/online-booking/uttar-pradesh-state-road-transport-corporation-upsrtc/?utm_source=rtchometile\",\n",
    "               \"https://www.redbus.in/online-booking/chandigarh-transport-undertaking-ctu\"]\n"
   ]
  },
  {
   "cell_type": "code",
   "execution_count": 48,
   "id": "16128c0a",
   "metadata": {},
   "outputs": [
    {
     "name": "stdout",
     "output_type": "stream",
     "text": [
      "Links: ['https://www.redbus.in/bus-tickets/kozhikode-to-ernakulam', 'https://www.redbus.in/bus-tickets/bangalore-to-kozhikode', 'https://www.redbus.in/bus-tickets/ernakulam-to-kozhikode', 'https://www.redbus.in/bus-tickets/kozhikode-to-bangalore', 'https://www.redbus.in/bus-tickets/kozhikode-to-mysore', 'https://www.redbus.in/bus-tickets/kozhikode-to-thrissur', 'https://www.redbus.in/bus-tickets/thrissur-to-kozhikode', 'https://www.redbus.in/bus-tickets/mysore-to-kozhikode']\n",
      "Routes: ['Kozhikode to Ernakulam', 'Bangalore to Kozhikode', 'Ernakulam to Kozhikode', 'Kozhikode to Bangalore', 'Kozhikode to Mysore', 'Kozhikode to Thrissur', 'Thrissur to Kozhikode', 'Mysore to Kozhikode']\n"
     ]
    }
   ],
   "source": [
    "from selenium import webdriver\n",
    "from selenium.webdriver.common.by import By\n",
    "from selenium.webdriver.support.ui import WebDriverWait\n",
    "import time\n",
    "\n",
    "# 1️⃣ Fresh driver\n",
    "driver = webdriver.Chrome()\n",
    "driver.get(\"https://www.redbus.in/online-booking/ksrtc-kerala/?utm_source=rtchometile\")\n",
    "driver.maximize_window()\n",
    "time.sleep(5)\n",
    "\n",
    "wait = WebDriverWait(driver, 10)\n",
    "LINKS_KERALA = []\n",
    "ROUTES_KERALA = []\n",
    "\n",
    "# 2️⃣ Scraping function\n",
    "def kerala_link_route():\n",
    "    # Scroll to load all routes\n",
    "    for _ in range(4):\n",
    "        driver.execute_script(\"window.scrollTo(0, document.body.scrollHeight);\")\n",
    "        time.sleep(2)\n",
    "\n",
    "    paths = driver.find_elements(By.XPATH, \"//a[@class='route']\")\n",
    "    for route in paths:\n",
    "        LINKS_KERALA.append(route.get_attribute(\"href\"))\n",
    "        ROUTES_KERALA.append(route.get_attribute(\"innerText\"))\n",
    "kerala_link_route()\n",
    "print(\"Links:\", LINKS_KERALA)\n",
    "print(\"Routes:\", ROUTES_KERALA)\n"
   ]
  },
  {
   "cell_type": "code",
   "execution_count": 49,
   "id": "c425f51a",
   "metadata": {},
   "outputs": [],
   "source": [
    "kerala_link_route()"
   ]
  },
  {
   "cell_type": "code",
   "execution_count": 50,
   "id": "7de6d181",
   "metadata": {},
   "outputs": [
    {
     "data": {
      "text/html": [
       "<div>\n",
       "<style scoped>\n",
       "    .dataframe tbody tr th:only-of-type {\n",
       "        vertical-align: middle;\n",
       "    }\n",
       "\n",
       "    .dataframe tbody tr th {\n",
       "        vertical-align: top;\n",
       "    }\n",
       "\n",
       "    .dataframe thead th {\n",
       "        text-align: right;\n",
       "    }\n",
       "</style>\n",
       "<table border=\"1\" class=\"dataframe\">\n",
       "  <thead>\n",
       "    <tr style=\"text-align: right;\">\n",
       "      <th></th>\n",
       "      <th>route_names</th>\n",
       "      <th>route_links</th>\n",
       "    </tr>\n",
       "  </thead>\n",
       "  <tbody>\n",
       "    <tr>\n",
       "      <th>0</th>\n",
       "      <td>Kozhikode to Ernakulam</td>\n",
       "      <td>https://www.redbus.in/bus-tickets/kozhikode-to...</td>\n",
       "    </tr>\n",
       "    <tr>\n",
       "      <th>1</th>\n",
       "      <td>Bangalore to Kozhikode</td>\n",
       "      <td>https://www.redbus.in/bus-tickets/bangalore-to...</td>\n",
       "    </tr>\n",
       "    <tr>\n",
       "      <th>2</th>\n",
       "      <td>Ernakulam to Kozhikode</td>\n",
       "      <td>https://www.redbus.in/bus-tickets/ernakulam-to...</td>\n",
       "    </tr>\n",
       "    <tr>\n",
       "      <th>3</th>\n",
       "      <td>Kozhikode to Bangalore</td>\n",
       "      <td>https://www.redbus.in/bus-tickets/kozhikode-to...</td>\n",
       "    </tr>\n",
       "    <tr>\n",
       "      <th>4</th>\n",
       "      <td>Kozhikode to Mysore</td>\n",
       "      <td>https://www.redbus.in/bus-tickets/kozhikode-to...</td>\n",
       "    </tr>\n",
       "    <tr>\n",
       "      <th>5</th>\n",
       "      <td>Kozhikode to Thrissur</td>\n",
       "      <td>https://www.redbus.in/bus-tickets/kozhikode-to...</td>\n",
       "    </tr>\n",
       "    <tr>\n",
       "      <th>6</th>\n",
       "      <td>Thrissur to Kozhikode</td>\n",
       "      <td>https://www.redbus.in/bus-tickets/thrissur-to-...</td>\n",
       "    </tr>\n",
       "    <tr>\n",
       "      <th>7</th>\n",
       "      <td>Mysore to Kozhikode</td>\n",
       "      <td>https://www.redbus.in/bus-tickets/mysore-to-ko...</td>\n",
       "    </tr>\n",
       "    <tr>\n",
       "      <th>8</th>\n",
       "      <td>Kozhikode to Ernakulam</td>\n",
       "      <td>https://www.redbus.in/bus-tickets/kozhikode-to...</td>\n",
       "    </tr>\n",
       "    <tr>\n",
       "      <th>9</th>\n",
       "      <td>Bangalore to Kozhikode</td>\n",
       "      <td>https://www.redbus.in/bus-tickets/bangalore-to...</td>\n",
       "    </tr>\n",
       "    <tr>\n",
       "      <th>10</th>\n",
       "      <td>Ernakulam to Kozhikode</td>\n",
       "      <td>https://www.redbus.in/bus-tickets/ernakulam-to...</td>\n",
       "    </tr>\n",
       "    <tr>\n",
       "      <th>11</th>\n",
       "      <td>Kozhikode to Bangalore</td>\n",
       "      <td>https://www.redbus.in/bus-tickets/kozhikode-to...</td>\n",
       "    </tr>\n",
       "    <tr>\n",
       "      <th>12</th>\n",
       "      <td>Kozhikode to Mysore</td>\n",
       "      <td>https://www.redbus.in/bus-tickets/kozhikode-to...</td>\n",
       "    </tr>\n",
       "    <tr>\n",
       "      <th>13</th>\n",
       "      <td>Kozhikode to Thrissur</td>\n",
       "      <td>https://www.redbus.in/bus-tickets/kozhikode-to...</td>\n",
       "    </tr>\n",
       "    <tr>\n",
       "      <th>14</th>\n",
       "      <td>Thrissur to Kozhikode</td>\n",
       "      <td>https://www.redbus.in/bus-tickets/thrissur-to-...</td>\n",
       "    </tr>\n",
       "    <tr>\n",
       "      <th>15</th>\n",
       "      <td>Mysore to Kozhikode</td>\n",
       "      <td>https://www.redbus.in/bus-tickets/mysore-to-ko...</td>\n",
       "    </tr>\n",
       "  </tbody>\n",
       "</table>\n",
       "</div>"
      ],
      "text/plain": [
       "               route_names                                        route_links\n",
       "0   Kozhikode to Ernakulam  https://www.redbus.in/bus-tickets/kozhikode-to...\n",
       "1   Bangalore to Kozhikode  https://www.redbus.in/bus-tickets/bangalore-to...\n",
       "2   Ernakulam to Kozhikode  https://www.redbus.in/bus-tickets/ernakulam-to...\n",
       "3   Kozhikode to Bangalore  https://www.redbus.in/bus-tickets/kozhikode-to...\n",
       "4      Kozhikode to Mysore  https://www.redbus.in/bus-tickets/kozhikode-to...\n",
       "5    Kozhikode to Thrissur  https://www.redbus.in/bus-tickets/kozhikode-to...\n",
       "6    Thrissur to Kozhikode  https://www.redbus.in/bus-tickets/thrissur-to-...\n",
       "7      Mysore to Kozhikode  https://www.redbus.in/bus-tickets/mysore-to-ko...\n",
       "8   Kozhikode to Ernakulam  https://www.redbus.in/bus-tickets/kozhikode-to...\n",
       "9   Bangalore to Kozhikode  https://www.redbus.in/bus-tickets/bangalore-to...\n",
       "10  Ernakulam to Kozhikode  https://www.redbus.in/bus-tickets/ernakulam-to...\n",
       "11  Kozhikode to Bangalore  https://www.redbus.in/bus-tickets/kozhikode-to...\n",
       "12     Kozhikode to Mysore  https://www.redbus.in/bus-tickets/kozhikode-to...\n",
       "13   Kozhikode to Thrissur  https://www.redbus.in/bus-tickets/kozhikode-to...\n",
       "14   Thrissur to Kozhikode  https://www.redbus.in/bus-tickets/thrissur-to-...\n",
       "15     Mysore to Kozhikode  https://www.redbus.in/bus-tickets/mysore-to-ko..."
      ]
     },
     "execution_count": 50,
     "metadata": {},
     "output_type": "execute_result"
    }
   ],
   "source": [
    "df_kl = pd.DataFrame({\n",
    "    \"route_names\": ROUTES_KERALA,\n",
    "    \"route_links\": LINKS_KERALA,})\n",
    "df_kl\n"
   ]
  },
  {
   "cell_type": "code",
   "execution_count": 51,
   "id": "ad45a720",
   "metadata": {},
   "outputs": [],
   "source": [
    "df_kl.to_csv('redbus_kerala.csv', index=False)"
   ]
  },
  {
   "cell_type": "code",
   "execution_count": 52,
   "id": "9894119f",
   "metadata": {},
   "outputs": [
    {
     "name": "stdout",
     "output_type": "stream",
     "text": [
      "No more pages or last page reached.\n",
      "Links: ['https://www.redbus.in/bus-tickets/hyderabad-to-vijayawada', 'https://www.redbus.in/bus-tickets/vijayawada-to-hyderabad', 'https://www.redbus.in/bus-tickets/chittoor-andhra-pradesh-to-bangalore', 'https://www.redbus.in/bus-tickets/kakinada-to-visakhapatnam', 'https://www.redbus.in/bus-tickets/hyderabad-to-ongole', 'https://www.redbus.in/bus-tickets/bangalore-to-kadapa', 'https://www.redbus.in/bus-tickets/ongole-to-hyderabad', 'https://www.redbus.in/bus-tickets/kadapa-to-bangalore', 'https://www.redbus.in/bus-tickets/bangalore-to-tirupathi', 'https://www.redbus.in/bus-tickets/bangalore-to-chittoor-andhra-pradesh']\n",
      "Routes: ['Hyderabad to Vijayawada', 'Vijayawada to Hyderabad', 'Chittoor (Andhra Pradesh) to Bangalore', 'Kakinada to Visakhapatnam', 'Hyderabad to Ongole', 'Bangalore to Kadapa', 'Ongole to Hyderabad', 'Kadapa to Bangalore', 'Bangalore to Tirupati', 'Bangalore to Chittoor (Andhra Pradesh)']\n"
     ]
    }
   ],
   "source": [
    "from selenium import webdriver\n",
    "from selenium.webdriver.common.by import By\n",
    "from selenium.webdriver.support.ui import WebDriverWait\n",
    "from selenium.webdriver.support import expected_conditions as EC\n",
    "import time\n",
    "\n",
    "# 1️⃣ Start a fresh driver\n",
    "driver = webdriver.Chrome()\n",
    "driver.get(\"https://www.redbus.in/online-booking/apsrtc/?utm_source=rtchometile\")\n",
    "driver.maximize_window()\n",
    "time.sleep(5)\n",
    "\n",
    "wait = WebDriverWait(driver, 10)\n",
    "LINKS_ANDHRA = []\n",
    "ROUTES_ANDHRA = []\n",
    "\n",
    "# 2️⃣ Scraping function\n",
    "def andhra_link_route(max_pages=2):\n",
    "    for i in range(1, max_pages + 1):\n",
    "        driver.execute_script(\"window.scrollTo(0, document.body.scrollHeight);\")\n",
    "        time.sleep(2)\n",
    "\n",
    "        paths = driver.find_elements(By.XPATH, \"//a[@class='route']\")\n",
    "        for route in paths:\n",
    "            LINKS_ANDHRA.append(route.get_attribute(\"href\"))\n",
    "            ROUTES_ANDHRA.append(route.get_attribute(\"innerText\"))\n",
    "\n",
    "        try:\n",
    "            pagination = wait.until(\n",
    "                EC.presence_of_element_located((By.XPATH, \"//div[@class='DC_117_paginationTable']\"))\n",
    "            )\n",
    "            next_button = pagination.find_element(\n",
    "                By.XPATH, f'//div[@class=\"DC_117_pageTabs\" and text()=\"{i+1}\"]'\n",
    "            )\n",
    "            next_button.click()\n",
    "            time.sleep(2)\n",
    "        except:\n",
    "            print(\"No more pages or last page reached.\")\n",
    "            break\n",
    "\n",
    "# 3️⃣ Call function immediately after driver creation\n",
    "andhra_link_route()\n",
    "\n",
    "print(\"Links:\", LINKS_ANDHRA)\n",
    "print(\"Routes:\", ROUTES_ANDHRA)\n"
   ]
  },
  {
   "cell_type": "code",
   "execution_count": 53,
   "id": "fa20b581",
   "metadata": {},
   "outputs": [
    {
     "name": "stdout",
     "output_type": "stream",
     "text": [
      "No more pages or last page reached.\n"
     ]
    }
   ],
   "source": [
    "andhra_link_route()"
   ]
  },
  {
   "cell_type": "code",
   "execution_count": 54,
   "id": "d850befc",
   "metadata": {},
   "outputs": [],
   "source": [
    "df_ap= pd.DataFrame({\n",
    "          \"route_name\" : ROUTES_ANDHRA,\n",
    "          \"route_link\" : LINKS_ANDHRA\n",
    "          \n",
    "})"
   ]
  },
  {
   "cell_type": "code",
   "execution_count": 55,
   "id": "add6fc7e",
   "metadata": {},
   "outputs": [
    {
     "data": {
      "text/html": [
       "<div>\n",
       "<style scoped>\n",
       "    .dataframe tbody tr th:only-of-type {\n",
       "        vertical-align: middle;\n",
       "    }\n",
       "\n",
       "    .dataframe tbody tr th {\n",
       "        vertical-align: top;\n",
       "    }\n",
       "\n",
       "    .dataframe thead th {\n",
       "        text-align: right;\n",
       "    }\n",
       "</style>\n",
       "<table border=\"1\" class=\"dataframe\">\n",
       "  <thead>\n",
       "    <tr style=\"text-align: right;\">\n",
       "      <th></th>\n",
       "      <th>route_name</th>\n",
       "      <th>route_link</th>\n",
       "    </tr>\n",
       "  </thead>\n",
       "  <tbody>\n",
       "    <tr>\n",
       "      <th>0</th>\n",
       "      <td>Hyderabad to Vijayawada</td>\n",
       "      <td>https://www.redbus.in/bus-tickets/hyderabad-to...</td>\n",
       "    </tr>\n",
       "    <tr>\n",
       "      <th>1</th>\n",
       "      <td>Vijayawada to Hyderabad</td>\n",
       "      <td>https://www.redbus.in/bus-tickets/vijayawada-t...</td>\n",
       "    </tr>\n",
       "    <tr>\n",
       "      <th>2</th>\n",
       "      <td>Chittoor (Andhra Pradesh) to Bangalore</td>\n",
       "      <td>https://www.redbus.in/bus-tickets/chittoor-and...</td>\n",
       "    </tr>\n",
       "    <tr>\n",
       "      <th>3</th>\n",
       "      <td>Kakinada to Visakhapatnam</td>\n",
       "      <td>https://www.redbus.in/bus-tickets/kakinada-to-...</td>\n",
       "    </tr>\n",
       "    <tr>\n",
       "      <th>4</th>\n",
       "      <td>Hyderabad to Ongole</td>\n",
       "      <td>https://www.redbus.in/bus-tickets/hyderabad-to...</td>\n",
       "    </tr>\n",
       "    <tr>\n",
       "      <th>5</th>\n",
       "      <td>Bangalore to Kadapa</td>\n",
       "      <td>https://www.redbus.in/bus-tickets/bangalore-to...</td>\n",
       "    </tr>\n",
       "    <tr>\n",
       "      <th>6</th>\n",
       "      <td>Ongole to Hyderabad</td>\n",
       "      <td>https://www.redbus.in/bus-tickets/ongole-to-hy...</td>\n",
       "    </tr>\n",
       "    <tr>\n",
       "      <th>7</th>\n",
       "      <td>Kadapa to Bangalore</td>\n",
       "      <td>https://www.redbus.in/bus-tickets/kadapa-to-ba...</td>\n",
       "    </tr>\n",
       "    <tr>\n",
       "      <th>8</th>\n",
       "      <td>Bangalore to Tirupati</td>\n",
       "      <td>https://www.redbus.in/bus-tickets/bangalore-to...</td>\n",
       "    </tr>\n",
       "    <tr>\n",
       "      <th>9</th>\n",
       "      <td>Bangalore to Chittoor (Andhra Pradesh)</td>\n",
       "      <td>https://www.redbus.in/bus-tickets/bangalore-to...</td>\n",
       "    </tr>\n",
       "    <tr>\n",
       "      <th>10</th>\n",
       "      <td>Hyderabad to Vijayawada</td>\n",
       "      <td>https://www.redbus.in/bus-tickets/hyderabad-to...</td>\n",
       "    </tr>\n",
       "    <tr>\n",
       "      <th>11</th>\n",
       "      <td>Vijayawada to Hyderabad</td>\n",
       "      <td>https://www.redbus.in/bus-tickets/vijayawada-t...</td>\n",
       "    </tr>\n",
       "    <tr>\n",
       "      <th>12</th>\n",
       "      <td>Chittoor (Andhra Pradesh) to Bangalore</td>\n",
       "      <td>https://www.redbus.in/bus-tickets/chittoor-and...</td>\n",
       "    </tr>\n",
       "    <tr>\n",
       "      <th>13</th>\n",
       "      <td>Kakinada to Visakhapatnam</td>\n",
       "      <td>https://www.redbus.in/bus-tickets/kakinada-to-...</td>\n",
       "    </tr>\n",
       "    <tr>\n",
       "      <th>14</th>\n",
       "      <td>Hyderabad to Ongole</td>\n",
       "      <td>https://www.redbus.in/bus-tickets/hyderabad-to...</td>\n",
       "    </tr>\n",
       "    <tr>\n",
       "      <th>15</th>\n",
       "      <td>Bangalore to Kadapa</td>\n",
       "      <td>https://www.redbus.in/bus-tickets/bangalore-to...</td>\n",
       "    </tr>\n",
       "    <tr>\n",
       "      <th>16</th>\n",
       "      <td>Ongole to Hyderabad</td>\n",
       "      <td>https://www.redbus.in/bus-tickets/ongole-to-hy...</td>\n",
       "    </tr>\n",
       "    <tr>\n",
       "      <th>17</th>\n",
       "      <td>Kadapa to Bangalore</td>\n",
       "      <td>https://www.redbus.in/bus-tickets/kadapa-to-ba...</td>\n",
       "    </tr>\n",
       "    <tr>\n",
       "      <th>18</th>\n",
       "      <td>Bangalore to Tirupati</td>\n",
       "      <td>https://www.redbus.in/bus-tickets/bangalore-to...</td>\n",
       "    </tr>\n",
       "    <tr>\n",
       "      <th>19</th>\n",
       "      <td>Bangalore to Chittoor (Andhra Pradesh)</td>\n",
       "      <td>https://www.redbus.in/bus-tickets/bangalore-to...</td>\n",
       "    </tr>\n",
       "  </tbody>\n",
       "</table>\n",
       "</div>"
      ],
      "text/plain": [
       "                                route_name  \\\n",
       "0                  Hyderabad to Vijayawada   \n",
       "1                  Vijayawada to Hyderabad   \n",
       "2   Chittoor (Andhra Pradesh) to Bangalore   \n",
       "3                Kakinada to Visakhapatnam   \n",
       "4                      Hyderabad to Ongole   \n",
       "5                      Bangalore to Kadapa   \n",
       "6                      Ongole to Hyderabad   \n",
       "7                      Kadapa to Bangalore   \n",
       "8                    Bangalore to Tirupati   \n",
       "9   Bangalore to Chittoor (Andhra Pradesh)   \n",
       "10                 Hyderabad to Vijayawada   \n",
       "11                 Vijayawada to Hyderabad   \n",
       "12  Chittoor (Andhra Pradesh) to Bangalore   \n",
       "13               Kakinada to Visakhapatnam   \n",
       "14                     Hyderabad to Ongole   \n",
       "15                     Bangalore to Kadapa   \n",
       "16                     Ongole to Hyderabad   \n",
       "17                     Kadapa to Bangalore   \n",
       "18                   Bangalore to Tirupati   \n",
       "19  Bangalore to Chittoor (Andhra Pradesh)   \n",
       "\n",
       "                                           route_link  \n",
       "0   https://www.redbus.in/bus-tickets/hyderabad-to...  \n",
       "1   https://www.redbus.in/bus-tickets/vijayawada-t...  \n",
       "2   https://www.redbus.in/bus-tickets/chittoor-and...  \n",
       "3   https://www.redbus.in/bus-tickets/kakinada-to-...  \n",
       "4   https://www.redbus.in/bus-tickets/hyderabad-to...  \n",
       "5   https://www.redbus.in/bus-tickets/bangalore-to...  \n",
       "6   https://www.redbus.in/bus-tickets/ongole-to-hy...  \n",
       "7   https://www.redbus.in/bus-tickets/kadapa-to-ba...  \n",
       "8   https://www.redbus.in/bus-tickets/bangalore-to...  \n",
       "9   https://www.redbus.in/bus-tickets/bangalore-to...  \n",
       "10  https://www.redbus.in/bus-tickets/hyderabad-to...  \n",
       "11  https://www.redbus.in/bus-tickets/vijayawada-t...  \n",
       "12  https://www.redbus.in/bus-tickets/chittoor-and...  \n",
       "13  https://www.redbus.in/bus-tickets/kakinada-to-...  \n",
       "14  https://www.redbus.in/bus-tickets/hyderabad-to...  \n",
       "15  https://www.redbus.in/bus-tickets/bangalore-to...  \n",
       "16  https://www.redbus.in/bus-tickets/ongole-to-hy...  \n",
       "17  https://www.redbus.in/bus-tickets/kadapa-to-ba...  \n",
       "18  https://www.redbus.in/bus-tickets/bangalore-to...  \n",
       "19  https://www.redbus.in/bus-tickets/bangalore-to...  "
      ]
     },
     "execution_count": 55,
     "metadata": {},
     "output_type": "execute_result"
    }
   ],
   "source": [
    "df_ap"
   ]
  },
  {
   "cell_type": "code",
   "execution_count": 56,
   "id": "9a11c7b7",
   "metadata": {},
   "outputs": [],
   "source": [
    "df_ap.to_csv('redbus_andhra.csv', index=False)"
   ]
  },
  {
   "cell_type": "code",
   "execution_count": 57,
   "id": "11130768",
   "metadata": {},
   "outputs": [
    {
     "name": "stdout",
     "output_type": "stream",
     "text": [
      "No more pages or last page reached.\n",
      "Links: ['https://www.redbus.in/bus-tickets/pune-to-goa', 'https://www.redbus.in/bus-tickets/goa-to-pune', 'https://www.redbus.in/bus-tickets/bangalore-to-goa', 'https://www.redbus.in/bus-tickets/mumbai-to-goa', 'https://www.redbus.in/bus-tickets/belagavi-to-goa', 'https://www.redbus.in/bus-tickets/goa-to-mumbai', 'https://www.redbus.in/bus-tickets/goa-to-bangalore', 'https://www.redbus.in/bus-tickets/hyderabad-to-goa', 'https://www.redbus.in/bus-tickets/goa-to-belagavi', 'https://www.redbus.in/bus-tickets/pandharpur-to-goa']\n",
      "Routes: ['Pune to Goa', 'Goa to Pune', 'Bangalore to Goa', 'Mumbai to Goa', 'Belagavi to Goa', 'Goa to Mumbai', 'Goa to Bangalore', 'Hyderabad to Goa', 'Goa to Belagavi', 'Pandharpur to Goa']\n"
     ]
    }
   ],
   "source": [
    "driver = webdriver.Chrome()\n",
    "driver.get( \"https://www.redbus.in/online-booking/ktcl/?utm_source=rtchometile\")\n",
    "driver.maximize_window()\n",
    "time.sleep(5)\n",
    "wait = WebDriverWait(driver, 10)\n",
    "LINKS_GOA= []\n",
    "ROUTES_GOA= []\n",
    "def goa_link_route(max_pages=2):\n",
    "    for i in range(1, max_pages + 1):\n",
    "        driver.execute_script(\"window.scrollTo(0, document.body.scrollHeight);\")\n",
    "        time.sleep(2)\n",
    "\n",
    "        paths = driver.find_elements(By.XPATH, \"//a[@class='route']\")\n",
    "        for route in paths:\n",
    "            LINKS_GOA.append(route.get_attribute(\"href\"))\n",
    "            ROUTES_GOA.append(route.get_attribute(\"innerText\"))\n",
    "\n",
    "        try:\n",
    "            pagination = wait.until(\n",
    "                EC.presence_of_element_located((By.XPATH, \"//div[@class='DC_117_paginationTable']\"))\n",
    "            )\n",
    "            next_button = pagination.find_element(\n",
    "                By.XPATH, f'//div[@class=\"DC_117_pageTabs\" and text()=\"{i+1}\"]'\n",
    "            )\n",
    "            next_button.click()\n",
    "            time.sleep(2)\n",
    "        except:\n",
    "            print(\"No more pages or last page reached.\")\n",
    "            break\n",
    "goa_link_route()\n",
    "print(\"Links:\", LINKS_GOA)\n",
    "print(\"Routes:\", ROUTES_GOA)\n"
   ]
  },
  {
   "cell_type": "code",
   "execution_count": 58,
   "id": "28e6c287",
   "metadata": {},
   "outputs": [
    {
     "name": "stdout",
     "output_type": "stream",
     "text": [
      "No more pages or last page reached.\n"
     ]
    }
   ],
   "source": [
    "goa_link_route()"
   ]
  },
  {
   "cell_type": "code",
   "execution_count": 60,
   "id": "70b33fe5",
   "metadata": {},
   "outputs": [],
   "source": [
    "df_g = pd.DataFrame({\n",
    "          \"route_name\" : ROUTES_GOA,\n",
    "          \"route_link\" : LINKS_GOA})"
   ]
  },
  {
   "cell_type": "code",
   "execution_count": 61,
   "id": "ef2fe92e",
   "metadata": {},
   "outputs": [],
   "source": [
    "df_g.to_csv('redbus_goa.csv', index=False)"
   ]
  },
  {
   "cell_type": "code",
   "execution_count": 62,
   "id": "2c7ef3b5",
   "metadata": {},
   "outputs": [
    {
     "name": "stdout",
     "output_type": "stream",
     "text": [
      "No more pages or last page reached.\n",
      "Links: ['https://www.redbus.in/bus-tickets/hyderabad-to-khammam', 'https://www.redbus.in/bus-tickets/khammam-to-hyderabad', 'https://www.redbus.in/bus-tickets/hyderabad-to-vijayawada', 'https://www.redbus.in/bus-tickets/hyderabad-to-karimnagar', 'https://www.redbus.in/bus-tickets/hyderabad-to-srisailam', 'https://www.redbus.in/bus-tickets/hyderabad-to-adilabad', 'https://www.redbus.in/bus-tickets/hyderabad-to-mancherial', 'https://www.redbus.in/bus-tickets/hyderabad-to-nirmal', 'https://www.redbus.in/bus-tickets/karimnagar-to-hyderabad', 'https://www.redbus.in/bus-tickets/hyderabad-to-sathupalli']\n",
      "Routes: ['Hyderabad to Khammam', 'Khammam to Hyderabad', 'Hyderabad to Vijayawada', 'Hyderabad to Karimnagar', 'Hyderabad to Srisailam', 'Hyderabad to Adilabad', 'Hyderabad to Mancherial', 'Hyderabad to Nirmal', 'Karimnagar to Hyderabad', 'Hyderabad to Sathupally']\n"
     ]
    }
   ],
   "source": [
    "driver = webdriver.Chrome()\n",
    "driver.get( \"https://www.redbus.in/online-booking/tsrtc/?utm_source=rtchometile\")\n",
    "driver.maximize_window()\n",
    "time.sleep(5)\n",
    "wait = WebDriverWait(driver, 10)\n",
    "LINKS_HYDERABAD = []\n",
    "ROUTES_HYDERABAD = []\n",
    "def hyderabad_link_route(max_pages=2):\n",
    "    for i in range(1, max_pages + 1):\n",
    "        driver.execute_script(\"window.scrollTo(0, document.body.scrollHeight)\")\n",
    "        time.sleep(2)\n",
    "        paths = driver.find_elements(By.XPATH, \"//a[@class='route']\")\n",
    "        for route in paths:\n",
    "            LINKS_HYDERABAD.append(route.get_attribute(\"href\"))\n",
    "            ROUTES_HYDERABAD.append(route.get_attribute(\"innerText\"))\n",
    "        try:\n",
    "            pagination = wait.untill(EC.presence_of_element_located((By.XPATH, \"//div[@class='DC_117_paginationTable']\")))  \n",
    "            next_button = pagination.find_element(By.XPATH, f'//div[@class=\"DC_117_pageTabs\" and text()=\"{i+1}\"]')\n",
    "            next_button.click()\n",
    "            time.sleep(2)\n",
    "        except:\n",
    "            print(\"No more pages or last page reached.\")\n",
    "            break\n",
    "hyderabad_link_route() \n",
    "print(\"Links:\", LINKS_HYDERABAD)\n",
    "print(\"Routes:\", ROUTES_HYDERABAD)         "
   ]
  },
  {
   "cell_type": "code",
   "execution_count": 63,
   "id": "ba62409e",
   "metadata": {},
   "outputs": [
    {
     "name": "stdout",
     "output_type": "stream",
     "text": [
      "No more pages or last page reached.\n"
     ]
    }
   ],
   "source": [
    "hyderabad_link_route() "
   ]
  },
  {
   "cell_type": "code",
   "execution_count": 64,
   "id": "0e6c683b",
   "metadata": {},
   "outputs": [],
   "source": [
    "df_hy = pd.DataFrame({\n",
    "          \"route_name\" : ROUTES_HYDERABAD,\n",
    "          \"route_link\" : LINKS_HYDERABAD})"
   ]
  },
  {
   "cell_type": "code",
   "execution_count": 65,
   "id": "e5fd32f2",
   "metadata": {},
   "outputs": [],
   "source": [
    "df_hy.to_csv('redbus_hyderabad.csv', index=False)"
   ]
  },
  {
   "cell_type": "code",
   "execution_count": 66,
   "id": "72848159",
   "metadata": {},
   "outputs": [
    {
     "name": "stdout",
     "output_type": "stream",
     "text": [
      "Links: ['https://www.redbus.in/bus-tickets/kozhikode-to-ernakulam', 'https://www.redbus.in/bus-tickets/bangalore-to-kozhikode', 'https://www.redbus.in/bus-tickets/ernakulam-to-kozhikode', 'https://www.redbus.in/bus-tickets/kozhikode-to-bangalore', 'https://www.redbus.in/bus-tickets/kozhikode-to-mysore', 'https://www.redbus.in/bus-tickets/kozhikode-to-thrissur', 'https://www.redbus.in/bus-tickets/thrissur-to-kozhikode', 'https://www.redbus.in/bus-tickets/mysore-to-kozhikode', 'https://www.redbus.in/bus-tickets/kozhikode-to-ernakulam', 'https://www.redbus.in/bus-tickets/bangalore-to-kozhikode', 'https://www.redbus.in/bus-tickets/ernakulam-to-kozhikode', 'https://www.redbus.in/bus-tickets/kozhikode-to-bangalore', 'https://www.redbus.in/bus-tickets/kozhikode-to-mysore', 'https://www.redbus.in/bus-tickets/kozhikode-to-thrissur', 'https://www.redbus.in/bus-tickets/thrissur-to-kozhikode', 'https://www.redbus.in/bus-tickets/mysore-to-kozhikode']\n",
      "Routes: ['Kozhikode to Ernakulam', 'Bangalore to Kozhikode', 'Ernakulam to Kozhikode', 'Kozhikode to Bangalore', 'Kozhikode to Mysore', 'Kozhikode to Thrissur', 'Thrissur to Kozhikode', 'Mysore to Kozhikode', 'Kozhikode to Ernakulam', 'Bangalore to Kozhikode', 'Ernakulam to Kozhikode', 'Kozhikode to Bangalore', 'Kozhikode to Mysore', 'Kozhikode to Thrissur', 'Thrissur to Kozhikode', 'Mysore to Kozhikode']\n"
     ]
    }
   ],
   "source": [
    "driver=webdriver.Chrome()\n",
    "driver.get( \"https://www.redbus.in/online-booking/rsrtc/?utm_source=rtchometile\")\n",
    "time.sleep(5)\n",
    "driver.maximize_window()        \n",
    "wait = WebDriverWait(driver, 10)\n",
    "LINKS_RAJASTHAN = []\n",
    "ROUTES_RAJASTHAN = []\n",
    "def rajasthan_link_route():\n",
    "    for i in range(3):\n",
    "        driver.execute_script(\"window.scrollTo(0, document.body.scrollHeight)\")\n",
    "        time.sleep(2)\n",
    "\n",
    "    paths = driver.find_elements(By.XPATH, \"//a[@class='route']\")\n",
    "    for route in paths:\n",
    "        LINKS_RAJASTHAN.append(route.get_attribute(\"href\"))\n",
    "        ROUTES_RAJASTHAN.append(route.get_attribute(\"innerText\"))\n",
    "rajasthan_link_route()\n",
    "print(\"Links:\", LINKS_KERALA)\n",
    "print(\"Routes:\", ROUTES_KERALA)\n"
   ]
  },
  {
   "cell_type": "code",
   "execution_count": 68,
   "id": "6c7a69e9",
   "metadata": {},
   "outputs": [],
   "source": [
    "rajasthan_link_route()"
   ]
  },
  {
   "cell_type": "code",
   "execution_count": 69,
   "id": "69b9f75b",
   "metadata": {},
   "outputs": [],
   "source": [
    "df_rj = pd.DataFrame({\n",
    "          \"route_name\" : ROUTES_RAJASTHAN,\n",
    "          \"route_link\" : LINKS_RAJASTHAN})"
   ]
  },
  {
   "cell_type": "code",
   "execution_count": 71,
   "id": "266a8fed",
   "metadata": {},
   "outputs": [],
   "source": [
    "df_rj.to_csv('redbus_rajasthan.csv', index=False)"
   ]
  },
  {
   "cell_type": "code",
   "execution_count": 72,
   "id": "b4268d22",
   "metadata": {},
   "outputs": [
    {
     "name": "stdout",
     "output_type": "stream",
     "text": [
      "No more pages or last page reached.\n",
      "Links: ['https://www.redbus.in/bus-tickets/durgapur-to-kolkata', 'https://www.redbus.in/bus-tickets/kolkata-to-burdwan', 'https://www.redbus.in/bus-tickets/kolkata-to-durgapur', 'https://www.redbus.in/bus-tickets/haldia-to-kolkata', 'https://www.redbus.in/bus-tickets/midnapore-to-kolkata', 'https://www.redbus.in/bus-tickets/kolkata-to-haldia', 'https://www.redbus.in/bus-tickets/kolkata-to-bankura', 'https://www.redbus.in/bus-tickets/kolkata-to-midnapore', 'https://www.redbus.in/bus-tickets/kolkata-to-arambagh-west-bengal', 'https://www.redbus.in/bus-tickets/jhargram-to-kolkata']\n",
      "Routes: ['Durgapur (West Bengal) to Kolkata', 'Kolkata to Burdwan', 'Kolkata to Durgapur (West Bengal)', 'Haldia to Kolkata', 'Midnapore to Kolkata', 'Kolkata to Haldia', 'Kolkata to Bankura', 'Kolkata to Midnapore', 'Kolkata to Arambagh (West Bengal)', 'Jhargram to Kolkata']\n"
     ]
    }
   ],
   "source": [
    "driver = webdriver.Chrome()\n",
    "driver.get(\"https://www.redbus.in/online-booking/south-bengal-state-transport-corporation-sbstc/?utm_source=rtchometile\")\n",
    "driver.maximize_window()\n",
    "time.sleep(5)\n",
    "wait = WebDriverWait(driver, 10)\n",
    "LINKS_SOUTH_BENGAL = []\n",
    "ROUTES_SOUTH_BENGAL = []\n",
    "def south_bengal_link_route(max_pages=2):\n",
    "    for i in range(1, max_pages + 1):\n",
    "        driver.execute_script(\"window.scrollTo(0, document.body.scrollHeight);\")\n",
    "        time.sleep(2)\n",
    "\n",
    "        paths = driver.find_elements(By.XPATH, \"//a[@class='route']\")\n",
    "        for route in paths:\n",
    "            LINKS_SOUTH_BENGAL.append(route.get_attribute(\"href\"))\n",
    "            ROUTES_SOUTH_BENGAL.append(route.get_attribute(\"innerText\"))\n",
    "\n",
    "        try:\n",
    "            pagination = wait.until(\n",
    "                EC.presence_of_element_located((By.XPATH, \"//div[@class='DC_117_paginationTable']\"))\n",
    "            )\n",
    "            next_button = pagination.find_element(\n",
    "                By.XPATH, f'//div[@class=\"DC_117_pageTabs\" and text()=\"{i+1}\"]'\n",
    "            )\n",
    "            next_button.click()\n",
    "            time.sleep(2)\n",
    "        except:\n",
    "            print(\"No more pages or last page reached.\")\n",
    "            break\n",
    "south_bengal_link_route()   \n",
    "print(\"Links:\", LINKS_SOUTH_BENGAL)\n",
    "print(\"Routes:\", ROUTES_SOUTH_BENGAL)     \n"
   ]
  },
  {
   "cell_type": "code",
   "execution_count": 73,
   "id": "a173628f",
   "metadata": {},
   "outputs": [
    {
     "name": "stdout",
     "output_type": "stream",
     "text": [
      "No more pages or last page reached.\n"
     ]
    }
   ],
   "source": [
    "south_bengal_link_route()"
   ]
  },
  {
   "cell_type": "code",
   "execution_count": 74,
   "id": "66cbcf45",
   "metadata": {},
   "outputs": [],
   "source": [
    "df_sb = pd.DataFrame({\n",
    "          \"route_name\" : ROUTES_SOUTH_BENGAL,   \n",
    "            \"route_link\" : LINKS_SOUTH_BENGAL})"
   ]
  },
  {
   "cell_type": "code",
   "execution_count": 75,
   "id": "ce9c15c2",
   "metadata": {},
   "outputs": [],
   "source": [
    "df_sb.to_csv('redbus_south_bengal.csv', index=False)"
   ]
  },
  {
   "cell_type": "code",
   "execution_count": 76,
   "id": "88e5c418",
   "metadata": {},
   "outputs": [
    {
     "name": "stdout",
     "output_type": "stream",
     "text": [
      "No more pages or last page reached.\n",
      "Links: ['https://www.redbus.in/bus-tickets/chandigarh-to-hamirpur-himachal-pradesh', 'https://www.redbus.in/bus-tickets/hamirpur-himachal-pradesh-to-chandigarh', 'https://www.redbus.in/bus-tickets/delhi-to-shimla', 'https://www.redbus.in/bus-tickets/shimla-to-delhi', 'https://www.redbus.in/bus-tickets/delhi-to-baddi-himachal-pradesh', 'https://www.redbus.in/bus-tickets/delhi-to-hamirpur-himachal-pradesh', 'https://www.redbus.in/bus-tickets/delhi-to-chandigarh', 'https://www.redbus.in/bus-tickets/shimla-to-chandigarh', 'https://www.redbus.in/bus-tickets/ghumarwin-to-chandigarh', 'https://www.redbus.in/bus-tickets/sundernagar-himachal-pradesh-to-chandigarh']\n",
      "Routes: ['Chandigarh to Hamirpur (Himachal Pradesh)', 'Hamirpur (Himachal Pradesh) to Chandigarh', 'Delhi to Shimla', 'Shimla to Delhi', 'Delhi to Baddi (Himachal Pradesh)', 'Delhi to Hamirpur (Himachal Pradesh)', 'Delhi to Chandigarh', 'Shimla to Chandigarh', 'Ghumarwin to Chandigarh', 'Sunder Nagar (Himachal Pradesh) to Chandigarh']\n"
     ]
    }
   ],
   "source": [
    "driver = webdriver.Chrome()\n",
    "driver.get(\"https://www.redbus.in/online-booking/hrtc/?utm_source=rtchometile\")\n",
    "driver.maximize_window()\n",
    "time.sleep(5)\n",
    "wait = WebDriverWait(driver, 10)\n",
    "LINKS_HARYANA = []\n",
    "ROUTES_HARYANA = []\n",
    "def haryana_link_route(max_pages=2):\n",
    "    for i in range(1, max_pages + 1):\n",
    "        driver.execute_script(\"window.scrollTo(0, document.body.scrollHeight)\")\n",
    "        time.sleep(2)\n",
    "\n",
    "        paths = driver.find_elements(By.XPATH, \"//a[@class='route']\")\n",
    "        for route in paths:\n",
    "            LINKS_HARYANA.append(route.get_attribute(\"href\"))\n",
    "            ROUTES_HARYANA.append(route.get_attribute(\"innerText\"))\n",
    "\n",
    "        try:\n",
    "            pagination = wait.until(\n",
    "                EC.presence_of_element_located((By.XPATH, \"//div[@class='DC_117_paginationTable']\"))\n",
    "            )\n",
    "            next_button = pagination.find_element(\n",
    "                By.XPATH, f'//div[@class=\"DC_117_pageTabs\" and text()=\"{i+1}\"]'\n",
    "            )\n",
    "            next_button.click()\n",
    "            time.sleep(2)\n",
    "        except:\n",
    "            print(\"No more pages or last page reached.\")\n",
    "            break\n",
    "haryana_link_route()\n",
    "print(\"Links:\", LINKS_HARYANA)\n",
    "print(\"Routes:\", ROUTES_HARYANA)            "
   ]
  },
  {
   "cell_type": "code",
   "execution_count": 77,
   "id": "ddb3d85a",
   "metadata": {},
   "outputs": [
    {
     "name": "stdout",
     "output_type": "stream",
     "text": [
      "No more pages or last page reached.\n"
     ]
    }
   ],
   "source": [
    "haryana_link_route()"
   ]
  },
  {
   "cell_type": "code",
   "execution_count": 78,
   "id": "952d6bae",
   "metadata": {},
   "outputs": [],
   "source": [
    "df_hr = pd.DataFrame({\n",
    "          \"route_name\" : ROUTES_HARYANA,\n",
    "            \"route_link\" : LINKS_HARYANA})"
   ]
  },
  {
   "cell_type": "code",
   "execution_count": 79,
   "id": "2541c452",
   "metadata": {},
   "outputs": [],
   "source": [
    "df_hr.to_csv('redbus_haryana.csv', index=False)"
   ]
  },
  {
   "cell_type": "code",
   "execution_count": 80,
   "id": "c8c5ca6f",
   "metadata": {},
   "outputs": [
    {
     "name": "stdout",
     "output_type": "stream",
     "text": [
      "No more pages or last page reached.\n",
      "Links: ['https://www.redbus.in/bus-tickets/guwahati-to-tezpur', 'https://www.redbus.in/bus-tickets/guwahati-to-nagaon', 'https://www.redbus.in/bus-tickets/guwahati-to-dhubri', 'https://www.redbus.in/bus-tickets/jorhat-to-north-lakhimpur', 'https://www.redbus.in/bus-tickets/dhekiajuli-to-guwahati', 'https://www.redbus.in/bus-tickets/dhubri-to-guwahati', 'https://www.redbus.in/bus-tickets/north-lakhimpur-to-jorhat', 'https://www.redbus.in/bus-tickets/sibsagar-to-north-lakhimpur', 'https://www.redbus.in/bus-tickets/north-lakhimpur-to-sibsagar', 'https://www.redbus.in/bus-tickets/dhemaji-to-jorhat']\n",
      "Routes: ['Guwahati to Tezpur', 'Guwahati to Nagaon (Assam)', 'Guwahati to Dhubri', 'Jorhat to North Lakhimpur', 'Dhekiajuli to Guwahati', 'Dhubri to Guwahati', 'North Lakhimpur to Jorhat', 'Sibsagar (Assam) to North Lakhimpur', 'North Lakhimpur to Sibsagar (Assam)', 'Dhemaji to Jorhat']\n"
     ]
    }
   ],
   "source": [
    "driver = webdriver.Chrome()\n",
    "driver.get(\"https://www.redbus.in/online-booking/astc/?utm_source=rtchometile\")\n",
    "driver.maximize_window()\n",
    "time.sleep(5)\n",
    "wait = WebDriverWait(driver, 10)\n",
    "LINKS_ASSAM = []    \n",
    "ROUTES_ASSAM = []\n",
    "def assam_link_route(max_pages=2):\n",
    "    for i in range(1, max_pages + 1):\n",
    "        driver.execute_script(\"window.scrollTo(0, document.body.scrollHeight);\")\n",
    "        time.sleep(2)\n",
    "\n",
    "        paths = driver.find_elements(By.XPATH, \"//a[@class='route']\")\n",
    "        for route in paths:\n",
    "            LINKS_ASSAM.append(route.get_attribute(\"href\"))\n",
    "            ROUTES_ASSAM.append(route.get_attribute(\"innerText\"))\n",
    "\n",
    "        try:\n",
    "            pagination = wait.until(\n",
    "                EC.presence_of_element_located((By.XPATH, \"//div[@class='DC_117_paginationTable']\"))\n",
    "            )\n",
    "            next_button = pagination.find_element(\n",
    "                By.XPATH, f'//div[@class=\"DC_117_pageTabs\" and text()=\"{i+1}\"]'\n",
    "            )\n",
    "            next_button.click()\n",
    "            time.sleep(2)\n",
    "        except:\n",
    "            print(\"No more pages or last page reached.\")\n",
    "            break\n",
    "assam_link_route()\n",
    "print(\"Links:\", LINKS_ASSAM)\n",
    "print(\"Routes:\", ROUTES_ASSAM)        "
   ]
  },
  {
   "cell_type": "code",
   "execution_count": 81,
   "id": "ad5e12ce",
   "metadata": {},
   "outputs": [
    {
     "name": "stdout",
     "output_type": "stream",
     "text": [
      "No more pages or last page reached.\n"
     ]
    }
   ],
   "source": [
    "assam_link_route()"
   ]
  },
  {
   "cell_type": "code",
   "execution_count": 82,
   "id": "04a9db35",
   "metadata": {},
   "outputs": [],
   "source": [
    "df_as = pd.DataFrame({\n",
    "            \"route_name\" : ROUTES_ASSAM,\n",
    "            \" route_link\" : LINKS_ASSAM})\n",
    "                      "
   ]
  },
  {
   "cell_type": "code",
   "execution_count": 83,
   "id": "4d6ab1ee",
   "metadata": {},
   "outputs": [],
   "source": [
    "df_as.to_csv('redbus_assam.csv', index=False)"
   ]
  },
  {
   "cell_type": "code",
   "execution_count": 84,
   "id": "55f1b9b6",
   "metadata": {},
   "outputs": [
    {
     "name": "stdout",
     "output_type": "stream",
     "text": [
      "No more pages or last page reached.\n",
      "Links: ['https://www.redbus.in/bus-tickets/aligarh-uttar-pradesh-to-delhi', 'https://www.redbus.in/bus-tickets/bareilly-to-delhi', 'https://www.redbus.in/bus-tickets/delhi-to-aligarh-uttar-pradesh', 'https://www.redbus.in/bus-tickets/lucknow-to-allahabad', 'https://www.redbus.in/bus-tickets/delhi-to-bareilly', 'https://www.redbus.in/bus-tickets/delhi-to-badaun', 'https://www.redbus.in/bus-tickets/badaun-to-delhi', 'https://www.redbus.in/bus-tickets/lucknow-to-bareilly', 'https://www.redbus.in/bus-tickets/sitapur-to-moradabad', 'https://www.redbus.in/bus-tickets/allahabad-to-lucknow']\n",
      "Routes: ['Aligarh (uttar pradesh) to Delhi', 'Bareilly (Uttar Pradesh) to Delhi', 'Delhi to Aligarh (uttar pradesh)', 'Lucknow to Prayagraj(Uttar Pradesh)', 'Delhi to Bareilly (Uttar Pradesh)', 'Delhi to Badaun', 'Badaun to Delhi', 'Lucknow to Bareilly (Uttar Pradesh)', 'Sitapur (Uttar Pradesh) to Moradabad', 'Prayagraj(Uttar Pradesh) to Lucknow']\n"
     ]
    }
   ],
   "source": [
    "driver = webdriver.Chrome()\n",
    "driver.get(\"https://www.redbus.in/online-booking/uttar-pradesh-state-road-transport-corporation-upsrtc/?utm_source=rtchometile\")\n",
    "driver.maximize_window()\n",
    "time.sleep(5)   \n",
    "wait = WebDriverWait(driver, 10)\n",
    "LINKS_UP = []\n",
    "ROUTES_UP = []\n",
    "def up_link_route(max_pages=2):\n",
    "    for i in range(1, max_pages + 1):\n",
    "        driver.execute_script(\"window.scrollTo(0, document.body.scrollHeight);\")\n",
    "        time.sleep(2)\n",
    "\n",
    "        paths = driver.find_elements(By.XPATH, \"//a[@class='route']\")\n",
    "        for route in paths:\n",
    "            LINKS_UP.append(route.get_attribute(\"href\"))\n",
    "            ROUTES_UP.append(route.get_attribute(\"innerText\"))\n",
    "\n",
    "        try:\n",
    "            pagination = wait.until(\n",
    "                EC.presence_of_element_located((By.XPATH, \"//div[@class='DC_117_paginationTable']\"))\n",
    "            )\n",
    "            next_button = pagination.find_element(\n",
    "                By.XPATH, f'//div[@class=\"DC_117_pageTabs\" and text()=\"{i+1}\"]'\n",
    "            )\n",
    "            next_button.click()\n",
    "            time.sleep(2)\n",
    "        except:\n",
    "            print(\"No more pages or last page reached.\")\n",
    "            break\n",
    "up_link_route()\n",
    "print(\"Links:\", LINKS_UP)\n",
    "print(\"Routes:\", ROUTES_UP)            "
   ]
  },
  {
   "cell_type": "code",
   "execution_count": 85,
   "id": "2c6474fe",
   "metadata": {},
   "outputs": [
    {
     "name": "stdout",
     "output_type": "stream",
     "text": [
      "No more pages or last page reached.\n"
     ]
    }
   ],
   "source": [
    "up_link_route()"
   ]
  },
  {
   "cell_type": "code",
   "execution_count": 86,
   "id": "3c992787",
   "metadata": {},
   "outputs": [],
   "source": [
    "df_up = pd.DataFrame({\n",
    "          \"route_name\" : ROUTES_UP,\n",
    "            \"route_link\" : LINKS_UP})"
   ]
  },
  {
   "cell_type": "code",
   "execution_count": 87,
   "id": "af8fcc0f",
   "metadata": {},
   "outputs": [],
   "source": [
    "df_up.to_csv('redbus_up.csv', index=False)"
   ]
  },
  {
   "cell_type": "code",
   "execution_count": 88,
   "id": "9f3d208e",
   "metadata": {},
   "outputs": [
    {
     "name": "stdout",
     "output_type": "stream",
     "text": [
      "Links: ['https://www.redbus.in/bus-tickets/yamuna-nagar-to-chandigarh', 'https://www.redbus.in/bus-tickets/ludhiana-to-chandigarh', 'https://www.redbus.in/bus-tickets/chandigarh-to-yamuna-nagar', 'https://www.redbus.in/bus-tickets/delhi-to-chandigarh', 'https://www.redbus.in/bus-tickets/chandigarh-to-ludhiana', 'https://www.redbus.in/bus-tickets/chandigarh-to-delhi', 'https://www.redbus.in/bus-tickets/chandigarh-to-vrindavan', 'https://www.redbus.in/bus-tickets/yamuna-nagar-to-chandigarh', 'https://www.redbus.in/bus-tickets/ludhiana-to-chandigarh', 'https://www.redbus.in/bus-tickets/chandigarh-to-yamuna-nagar', 'https://www.redbus.in/bus-tickets/delhi-to-chandigarh', 'https://www.redbus.in/bus-tickets/chandigarh-to-ludhiana', 'https://www.redbus.in/bus-tickets/chandigarh-to-delhi', 'https://www.redbus.in/bus-tickets/chandigarh-to-vrindavan', 'https://www.redbus.in/bus-tickets/yamuna-nagar-to-chandigarh', 'https://www.redbus.in/bus-tickets/ludhiana-to-chandigarh', 'https://www.redbus.in/bus-tickets/chandigarh-to-yamuna-nagar', 'https://www.redbus.in/bus-tickets/delhi-to-chandigarh', 'https://www.redbus.in/bus-tickets/chandigarh-to-ludhiana', 'https://www.redbus.in/bus-tickets/chandigarh-to-delhi', 'https://www.redbus.in/bus-tickets/chandigarh-to-vrindavan']\n",
      "Routes: ['Yamuna Nagar to Chandigarh', 'Ludhiana to Chandigarh', 'Chandigarh to Yamuna Nagar', 'Delhi to Chandigarh', 'Chandigarh to Ludhiana', 'Chandigarh to Delhi', 'Chandigarh to Vrindavan', 'Yamuna Nagar to Chandigarh', 'Ludhiana to Chandigarh', 'Chandigarh to Yamuna Nagar', 'Delhi to Chandigarh', 'Chandigarh to Ludhiana', 'Chandigarh to Delhi', 'Chandigarh to Vrindavan', 'Yamuna Nagar to Chandigarh', 'Ludhiana to Chandigarh', 'Chandigarh to Yamuna Nagar', 'Delhi to Chandigarh', 'Chandigarh to Ludhiana', 'Chandigarh to Delhi', 'Chandigarh to Vrindavan']\n"
     ]
    }
   ],
   "source": [
    "driver = webdriver.Chrome()\n",
    "driver.get(\"https://www.redbus.in/online-booking/chandigarh-transport-undertaking-ctu\")\n",
    "driver.maximize_window()\n",
    "time.sleep(5)\n",
    "wait = WebDriverWait(driver, 10)\n",
    "LINKS_CHANDIGARH = []\n",
    "ROUTES_CHANDIGARH = []\n",
    "def chandigarh_link_route():\n",
    "    for i in range(3):\n",
    "        driver.execute_script(\"window.scrollTo(0, document.body.scrollHeight);\")\n",
    "        time.sleep(2)\n",
    "\n",
    "        paths = driver.find_elements(By.XPATH, \"//a[@class='route']\")\n",
    "        for route in paths:\n",
    "            LINKS_CHANDIGARH.append(route.get_attribute(\"href\"))\n",
    "            ROUTES_CHANDIGARH.append(route.get_attribute(\"innerText\"))\n",
    "chandigarh_link_route()\n",
    "print(\"Links:\", LINKS_CHANDIGARH)\n",
    "print(\"Routes:\", ROUTES_CHANDIGARH)"
   ]
  },
  {
   "cell_type": "code",
   "execution_count": 89,
   "id": "fc257733",
   "metadata": {},
   "outputs": [],
   "source": [
    "chandigarh_link_route()"
   ]
  },
  {
   "cell_type": "code",
   "execution_count": 91,
   "id": "a7a8db6f",
   "metadata": {},
   "outputs": [],
   "source": [
    "df_cr = pd.DataFrame({\n",
    "            \"route_name\" : ROUTES_CHANDIGARH,\n",
    "            \"route_link\" : LINKS_CHANDIGARH})"
   ]
  },
  {
   "cell_type": "code",
   "execution_count": 92,
   "id": "2e0f727d",
   "metadata": {},
   "outputs": [],
   "source": [
    "df_cr.to_csv('redbus_chandigarh.csv', index=False)"
   ]
  },
  {
   "cell_type": "code",
   "execution_count": 93,
   "id": "eabec10f",
   "metadata": {},
   "outputs": [],
   "source": [
    "df_total_links=pd.concat([df_kl,df_ap,df_g,df_hy,df_rj,df_sb,df_hr,df_as,df_up,df_cr],ignore_index=True)"
   ]
  },
  {
   "cell_type": "code",
   "execution_count": 94,
   "id": "b8c32006",
   "metadata": {},
   "outputs": [
    {
     "data": {
      "text/html": [
       "<div>\n",
       "<style scoped>\n",
       "    .dataframe tbody tr th:only-of-type {\n",
       "        vertical-align: middle;\n",
       "    }\n",
       "\n",
       "    .dataframe tbody tr th {\n",
       "        vertical-align: top;\n",
       "    }\n",
       "\n",
       "    .dataframe thead th {\n",
       "        text-align: right;\n",
       "    }\n",
       "</style>\n",
       "<table border=\"1\" class=\"dataframe\">\n",
       "  <thead>\n",
       "    <tr style=\"text-align: right;\">\n",
       "      <th></th>\n",
       "      <th>route_names</th>\n",
       "      <th>route_links</th>\n",
       "      <th>route_name</th>\n",
       "      <th>route_link</th>\n",
       "      <th>route_link</th>\n",
       "    </tr>\n",
       "  </thead>\n",
       "  <tbody>\n",
       "    <tr>\n",
       "      <th>0</th>\n",
       "      <td>Kozhikode to Ernakulam</td>\n",
       "      <td>https://www.redbus.in/bus-tickets/kozhikode-to...</td>\n",
       "      <td>NaN</td>\n",
       "      <td>NaN</td>\n",
       "      <td>NaN</td>\n",
       "    </tr>\n",
       "    <tr>\n",
       "      <th>1</th>\n",
       "      <td>Bangalore to Kozhikode</td>\n",
       "      <td>https://www.redbus.in/bus-tickets/bangalore-to...</td>\n",
       "      <td>NaN</td>\n",
       "      <td>NaN</td>\n",
       "      <td>NaN</td>\n",
       "    </tr>\n",
       "    <tr>\n",
       "      <th>2</th>\n",
       "      <td>Ernakulam to Kozhikode</td>\n",
       "      <td>https://www.redbus.in/bus-tickets/ernakulam-to...</td>\n",
       "      <td>NaN</td>\n",
       "      <td>NaN</td>\n",
       "      <td>NaN</td>\n",
       "    </tr>\n",
       "    <tr>\n",
       "      <th>3</th>\n",
       "      <td>Kozhikode to Bangalore</td>\n",
       "      <td>https://www.redbus.in/bus-tickets/kozhikode-to...</td>\n",
       "      <td>NaN</td>\n",
       "      <td>NaN</td>\n",
       "      <td>NaN</td>\n",
       "    </tr>\n",
       "    <tr>\n",
       "      <th>4</th>\n",
       "      <td>Kozhikode to Mysore</td>\n",
       "      <td>https://www.redbus.in/bus-tickets/kozhikode-to...</td>\n",
       "      <td>NaN</td>\n",
       "      <td>NaN</td>\n",
       "      <td>NaN</td>\n",
       "    </tr>\n",
       "    <tr>\n",
       "      <th>...</th>\n",
       "      <td>...</td>\n",
       "      <td>...</td>\n",
       "      <td>...</td>\n",
       "      <td>...</td>\n",
       "      <td>...</td>\n",
       "    </tr>\n",
       "    <tr>\n",
       "      <th>220</th>\n",
       "      <td>NaN</td>\n",
       "      <td>NaN</td>\n",
       "      <td>Chandigarh to Yamuna Nagar</td>\n",
       "      <td>https://www.redbus.in/bus-tickets/chandigarh-t...</td>\n",
       "      <td>NaN</td>\n",
       "    </tr>\n",
       "    <tr>\n",
       "      <th>221</th>\n",
       "      <td>NaN</td>\n",
       "      <td>NaN</td>\n",
       "      <td>Delhi to Chandigarh</td>\n",
       "      <td>https://www.redbus.in/bus-tickets/delhi-to-cha...</td>\n",
       "      <td>NaN</td>\n",
       "    </tr>\n",
       "    <tr>\n",
       "      <th>222</th>\n",
       "      <td>NaN</td>\n",
       "      <td>NaN</td>\n",
       "      <td>Chandigarh to Ludhiana</td>\n",
       "      <td>https://www.redbus.in/bus-tickets/chandigarh-t...</td>\n",
       "      <td>NaN</td>\n",
       "    </tr>\n",
       "    <tr>\n",
       "      <th>223</th>\n",
       "      <td>NaN</td>\n",
       "      <td>NaN</td>\n",
       "      <td>Chandigarh to Delhi</td>\n",
       "      <td>https://www.redbus.in/bus-tickets/chandigarh-t...</td>\n",
       "      <td>NaN</td>\n",
       "    </tr>\n",
       "    <tr>\n",
       "      <th>224</th>\n",
       "      <td>NaN</td>\n",
       "      <td>NaN</td>\n",
       "      <td>Chandigarh to Vrindavan</td>\n",
       "      <td>https://www.redbus.in/bus-tickets/chandigarh-t...</td>\n",
       "      <td>NaN</td>\n",
       "    </tr>\n",
       "  </tbody>\n",
       "</table>\n",
       "<p>225 rows × 5 columns</p>\n",
       "</div>"
      ],
      "text/plain": [
       "                route_names  \\\n",
       "0    Kozhikode to Ernakulam   \n",
       "1    Bangalore to Kozhikode   \n",
       "2    Ernakulam to Kozhikode   \n",
       "3    Kozhikode to Bangalore   \n",
       "4       Kozhikode to Mysore   \n",
       "..                      ...   \n",
       "220                     NaN   \n",
       "221                     NaN   \n",
       "222                     NaN   \n",
       "223                     NaN   \n",
       "224                     NaN   \n",
       "\n",
       "                                           route_links  \\\n",
       "0    https://www.redbus.in/bus-tickets/kozhikode-to...   \n",
       "1    https://www.redbus.in/bus-tickets/bangalore-to...   \n",
       "2    https://www.redbus.in/bus-tickets/ernakulam-to...   \n",
       "3    https://www.redbus.in/bus-tickets/kozhikode-to...   \n",
       "4    https://www.redbus.in/bus-tickets/kozhikode-to...   \n",
       "..                                                 ...   \n",
       "220                                                NaN   \n",
       "221                                                NaN   \n",
       "222                                                NaN   \n",
       "223                                                NaN   \n",
       "224                                                NaN   \n",
       "\n",
       "                     route_name  \\\n",
       "0                           NaN   \n",
       "1                           NaN   \n",
       "2                           NaN   \n",
       "3                           NaN   \n",
       "4                           NaN   \n",
       "..                          ...   \n",
       "220  Chandigarh to Yamuna Nagar   \n",
       "221         Delhi to Chandigarh   \n",
       "222      Chandigarh to Ludhiana   \n",
       "223         Chandigarh to Delhi   \n",
       "224     Chandigarh to Vrindavan   \n",
       "\n",
       "                                            route_link  route_link  \n",
       "0                                                  NaN         NaN  \n",
       "1                                                  NaN         NaN  \n",
       "2                                                  NaN         NaN  \n",
       "3                                                  NaN         NaN  \n",
       "4                                                  NaN         NaN  \n",
       "..                                                 ...         ...  \n",
       "220  https://www.redbus.in/bus-tickets/chandigarh-t...         NaN  \n",
       "221  https://www.redbus.in/bus-tickets/delhi-to-cha...         NaN  \n",
       "222  https://www.redbus.in/bus-tickets/chandigarh-t...         NaN  \n",
       "223  https://www.redbus.in/bus-tickets/chandigarh-t...         NaN  \n",
       "224  https://www.redbus.in/bus-tickets/chandigarh-t...         NaN  \n",
       "\n",
       "[225 rows x 5 columns]"
      ]
     },
     "execution_count": 94,
     "metadata": {},
     "output_type": "execute_result"
    }
   ],
   "source": [
    "df_total_links"
   ]
  },
  {
   "cell_type": "code",
   "execution_count": null,
   "id": "2f08ce9e",
   "metadata": {},
   "outputs": [],
   "source": []
  }
 ],
 "metadata": {
  "kernelspec": {
   "display_name": "Python 3",
   "language": "python",
   "name": "python3"
  },
  "language_info": {
   "codemirror_mode": {
    "name": "ipython",
    "version": 3
   },
   "file_extension": ".py",
   "mimetype": "text/x-python",
   "name": "python",
   "nbconvert_exporter": "python",
   "pygments_lexer": "ipython3",
   "version": "3.13.5"
  }
 },
 "nbformat": 4,
 "nbformat_minor": 5
}
