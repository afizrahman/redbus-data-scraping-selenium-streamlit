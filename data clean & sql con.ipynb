{
 "cells": [
  {
   "cell_type": "code",
   "execution_count": 1,
   "id": "02d2b282",
   "metadata": {},
   "outputs": [],
   "source": [
    "#Successfully installed mysql-connector-python-9.4.0"
   ]
  },
  {
   "cell_type": "code",
   "execution_count": 6,
   "id": "9b5aa135",
   "metadata": {},
   "outputs": [],
   "source": [
    "import pandas as pd\n",
    "import mysql.connector\n",
    "import numpy as np"
   ]
  },
  {
   "cell_type": "code",
   "execution_count": 7,
   "id": "48b7ae94",
   "metadata": {},
   "outputs": [],
   "source": [
    "df1= pd.read_csv(r\"C:\\Users\\USER\\OneDrive\\Desktop\\red bus\\Redbus_data\\Redbus_data\\astc.csv\")\n",
    "df2 = pd.read_csv(r\"C:\\Users\\USER\\OneDrive\\Desktop\\red bus\\Redbus_data\\Redbus_data\\bsrtc_bus.csv\")\n",
    "df3 = pd.read_csv(r\"C:\\Users\\USER\\OneDrive\\Desktop\\red bus\\Redbus_data\\Redbus_data\\ctu.csv\")\n",
    "df4 = pd.read_csv(r\"C:\\Users\\USER\\OneDrive\\Desktop\\red bus\\Redbus_data\\Redbus_data\\jksrtc.csv\")\n",
    "df5 = pd.read_csv(r\"C:\\Users\\USER\\OneDrive\\Desktop\\red bus\\Redbus_data\\Redbus_data\\kaac_bus.csv\")\n",
    "df6 = pd.read_csv(r\"C:\\Users\\USER\\OneDrive\\Desktop\\red bus\\Redbus_data\\Redbus_data\\ksrtc.csv\")\n",
    "df7=pd.read_csv(r\"C:\\Users\\USER\\OneDrive\\Desktop\\red bus\\Redbus_data\\Redbus_data\\ksrtc.csv\")\n",
    "df8 = pd.read_csv(r\"C:\\Users\\USER\\OneDrive\\Desktop\\red bus\\Redbus_data\\Redbus_data\\nbstc.csv\")\n",
    "df9 = pd.read_csv (r\"C:\\Users\\USER\\OneDrive\\Desktop\\red bus\\Redbus_data\\Redbus_data\\pepsu.csv\")\n",
    "df10 = pd.read_csv(r\"C:\\Users\\USER\\OneDrive\\Desktop\\red bus\\Redbus_data\\Redbus_data\\wbstc.csv\")\n",
    "\n",
    "Al_df=pd.concat([df1,df2,df3,df4,df5,df6,df7,df8,df9,df10],ignore_index=True)\n"
   ]
  },
  {
   "cell_type": "code",
   "execution_count": 8,
   "id": "78f48056",
   "metadata": {},
   "outputs": [
    {
     "data": {
      "text/html": [
       "<div>\n",
       "<style scoped>\n",
       "    .dataframe tbody tr th:only-of-type {\n",
       "        vertical-align: middle;\n",
       "    }\n",
       "\n",
       "    .dataframe tbody tr th {\n",
       "        vertical-align: top;\n",
       "    }\n",
       "\n",
       "    .dataframe thead th {\n",
       "        text-align: right;\n",
       "    }\n",
       "</style>\n",
       "<table border=\"1\" class=\"dataframe\">\n",
       "  <thead>\n",
       "    <tr style=\"text-align: right;\">\n",
       "      <th></th>\n",
       "      <th>Route Name</th>\n",
       "      <th>Route Link</th>\n",
       "      <th>Bus Name</th>\n",
       "      <th>Bus Type</th>\n",
       "      <th>Departure Time</th>\n",
       "      <th>Duration</th>\n",
       "      <th>Arrival Time</th>\n",
       "      <th>Star Rating</th>\n",
       "      <th>Price</th>\n",
       "      <th>Seats Available</th>\n",
       "    </tr>\n",
       "  </thead>\n",
       "  <tbody>\n",
       "    <tr>\n",
       "      <th>0</th>\n",
       "      <td>Tezpur to Guwahati Bus</td>\n",
       "      <td>https://www.redbus.in/bus-tickets/tezpur-to-gu...</td>\n",
       "      <td>Assam State Transport Corporation (ASTC) - 168821</td>\n",
       "      <td>Bharat Benz A/C Seater (2+2)</td>\n",
       "      <td>15:45</td>\n",
       "      <td>04h 45m</td>\n",
       "      <td>20:30</td>\n",
       "      <td>3.8</td>\n",
       "      <td>298.00</td>\n",
       "      <td>8.0</td>\n",
       "    </tr>\n",
       "    <tr>\n",
       "      <th>1</th>\n",
       "      <td>Tezpur to Guwahati Bus</td>\n",
       "      <td>https://www.redbus.in/bus-tickets/tezpur-to-gu...</td>\n",
       "      <td>Assam State Transport Corporation (ASTC) - 161055</td>\n",
       "      <td>Volvo AC Seater 2+2</td>\n",
       "      <td>16:15</td>\n",
       "      <td>04h 15m</td>\n",
       "      <td>20:30</td>\n",
       "      <td>4.1</td>\n",
       "      <td>298.00</td>\n",
       "      <td>7.0</td>\n",
       "    </tr>\n",
       "    <tr>\n",
       "      <th>2</th>\n",
       "      <td>Tezpur to Guwahati Bus</td>\n",
       "      <td>https://www.redbus.in/bus-tickets/tezpur-to-gu...</td>\n",
       "      <td>Chartered Bus - ASTC</td>\n",
       "      <td>A/C Seater Push Back (2+2)</td>\n",
       "      <td>11:30</td>\n",
       "      <td>04h 45m</td>\n",
       "      <td>16:15</td>\n",
       "      <td>4.2</td>\n",
       "      <td>442.46</td>\n",
       "      <td>21.0</td>\n",
       "    </tr>\n",
       "    <tr>\n",
       "      <th>3</th>\n",
       "      <td>Tezpur to Guwahati Bus</td>\n",
       "      <td>https://www.redbus.in/bus-tickets/tezpur-to-gu...</td>\n",
       "      <td>Pranjit Travels (Under ASTC)</td>\n",
       "      <td>NON A/C Seater (2+1)</td>\n",
       "      <td>11:30</td>\n",
       "      <td>05h 15m</td>\n",
       "      <td>16:45</td>\n",
       "      <td>4.1</td>\n",
       "      <td>450.00</td>\n",
       "      <td>6.0</td>\n",
       "    </tr>\n",
       "    <tr>\n",
       "      <th>4</th>\n",
       "      <td>Tezpur to Guwahati Bus</td>\n",
       "      <td>https://www.redbus.in/bus-tickets/tezpur-to-gu...</td>\n",
       "      <td>Chartered Bus - ASTC</td>\n",
       "      <td>Volvo Multi-Axle I-Shift B11R Semi Sleeper (2+2)</td>\n",
       "      <td>13:00</td>\n",
       "      <td>04h 00m</td>\n",
       "      <td>17:00</td>\n",
       "      <td>4.5</td>\n",
       "      <td>388.00</td>\n",
       "      <td>1.0</td>\n",
       "    </tr>\n",
       "    <tr>\n",
       "      <th>...</th>\n",
       "      <td>...</td>\n",
       "      <td>...</td>\n",
       "      <td>...</td>\n",
       "      <td>...</td>\n",
       "      <td>...</td>\n",
       "      <td>...</td>\n",
       "      <td>...</td>\n",
       "      <td>...</td>\n",
       "      <td>...</td>\n",
       "      <td>...</td>\n",
       "    </tr>\n",
       "    <tr>\n",
       "      <th>4933</th>\n",
       "      <td>Mandarmani to Kolkata Bus</td>\n",
       "      <td>https://www.redbus.in/bus-tickets/mandarmani-t...</td>\n",
       "      <td>Subhadip Travels(Jagannath)</td>\n",
       "      <td>A/C Executive (2+3)</td>\n",
       "      <td>14:40</td>\n",
       "      <td>04h 15m</td>\n",
       "      <td>18:55</td>\n",
       "      <td>3.0</td>\n",
       "      <td>300.00</td>\n",
       "      <td>32.0</td>\n",
       "    </tr>\n",
       "    <tr>\n",
       "      <th>4934</th>\n",
       "      <td>Mandarmani to Kolkata Bus</td>\n",
       "      <td>https://www.redbus.in/bus-tickets/mandarmani-t...</td>\n",
       "      <td>Aradhana Bus Service</td>\n",
       "      <td>A/C Seater / Sleeper (2+2)</td>\n",
       "      <td>23:20</td>\n",
       "      <td>04h 40m</td>\n",
       "      <td>04:00</td>\n",
       "      <td>3.0</td>\n",
       "      <td>300.00</td>\n",
       "      <td>32.0</td>\n",
       "    </tr>\n",
       "    <tr>\n",
       "      <th>4935</th>\n",
       "      <td>Mandarmani to Kolkata Bus</td>\n",
       "      <td>https://www.redbus.in/bus-tickets/mandarmani-t...</td>\n",
       "      <td>Ankita Paribahan</td>\n",
       "      <td>Non AC Seater (2+3)</td>\n",
       "      <td>19:00</td>\n",
       "      <td>04h 00m</td>\n",
       "      <td>23:00</td>\n",
       "      <td>3.0</td>\n",
       "      <td>300.00</td>\n",
       "      <td>32.0</td>\n",
       "    </tr>\n",
       "    <tr>\n",
       "      <th>4936</th>\n",
       "      <td>Mandarmani to Kolkata Bus</td>\n",
       "      <td>https://www.redbus.in/bus-tickets/mandarmani-t...</td>\n",
       "      <td>Aradhana Travels</td>\n",
       "      <td>Non AC Seater (2+3)</td>\n",
       "      <td>22:15</td>\n",
       "      <td>05h 10m</td>\n",
       "      <td>03:25</td>\n",
       "      <td>3.0</td>\n",
       "      <td>300.00</td>\n",
       "      <td>32.0</td>\n",
       "    </tr>\n",
       "    <tr>\n",
       "      <th>4937</th>\n",
       "      <td>Mandarmani to Kolkata Bus</td>\n",
       "      <td>https://www.redbus.in/bus-tickets/mandarmani-t...</td>\n",
       "      <td>Snemita Paribahan</td>\n",
       "      <td>A/C Seater (2+3)</td>\n",
       "      <td>14:30</td>\n",
       "      <td>04h 00m</td>\n",
       "      <td>18:30</td>\n",
       "      <td>3.0</td>\n",
       "      <td>300.00</td>\n",
       "      <td>32.0</td>\n",
       "    </tr>\n",
       "  </tbody>\n",
       "</table>\n",
       "<p>4938 rows × 10 columns</p>\n",
       "</div>"
      ],
      "text/plain": [
       "                     Route Name  \\\n",
       "0        Tezpur to Guwahati Bus   \n",
       "1        Tezpur to Guwahati Bus   \n",
       "2        Tezpur to Guwahati Bus   \n",
       "3        Tezpur to Guwahati Bus   \n",
       "4        Tezpur to Guwahati Bus   \n",
       "...                         ...   \n",
       "4933  Mandarmani to Kolkata Bus   \n",
       "4934  Mandarmani to Kolkata Bus   \n",
       "4935  Mandarmani to Kolkata Bus   \n",
       "4936  Mandarmani to Kolkata Bus   \n",
       "4937  Mandarmani to Kolkata Bus   \n",
       "\n",
       "                                             Route Link  \\\n",
       "0     https://www.redbus.in/bus-tickets/tezpur-to-gu...   \n",
       "1     https://www.redbus.in/bus-tickets/tezpur-to-gu...   \n",
       "2     https://www.redbus.in/bus-tickets/tezpur-to-gu...   \n",
       "3     https://www.redbus.in/bus-tickets/tezpur-to-gu...   \n",
       "4     https://www.redbus.in/bus-tickets/tezpur-to-gu...   \n",
       "...                                                 ...   \n",
       "4933  https://www.redbus.in/bus-tickets/mandarmani-t...   \n",
       "4934  https://www.redbus.in/bus-tickets/mandarmani-t...   \n",
       "4935  https://www.redbus.in/bus-tickets/mandarmani-t...   \n",
       "4936  https://www.redbus.in/bus-tickets/mandarmani-t...   \n",
       "4937  https://www.redbus.in/bus-tickets/mandarmani-t...   \n",
       "\n",
       "                                               Bus Name  \\\n",
       "0     Assam State Transport Corporation (ASTC) - 168821   \n",
       "1     Assam State Transport Corporation (ASTC) - 161055   \n",
       "2                                  Chartered Bus - ASTC   \n",
       "3                          Pranjit Travels (Under ASTC)   \n",
       "4                                  Chartered Bus - ASTC   \n",
       "...                                                 ...   \n",
       "4933                        Subhadip Travels(Jagannath)   \n",
       "4934                               Aradhana Bus Service   \n",
       "4935                                   Ankita Paribahan   \n",
       "4936                                   Aradhana Travels   \n",
       "4937                                  Snemita Paribahan   \n",
       "\n",
       "                                              Bus Type Departure Time  \\\n",
       "0                         Bharat Benz A/C Seater (2+2)          15:45   \n",
       "1                                  Volvo AC Seater 2+2          16:15   \n",
       "2                           A/C Seater Push Back (2+2)          11:30   \n",
       "3                                 NON A/C Seater (2+1)          11:30   \n",
       "4     Volvo Multi-Axle I-Shift B11R Semi Sleeper (2+2)          13:00   \n",
       "...                                                ...            ...   \n",
       "4933                               A/C Executive (2+3)          14:40   \n",
       "4934                        A/C Seater / Sleeper (2+2)          23:20   \n",
       "4935                               Non AC Seater (2+3)          19:00   \n",
       "4936                               Non AC Seater (2+3)          22:15   \n",
       "4937                                  A/C Seater (2+3)          14:30   \n",
       "\n",
       "     Duration Arrival Time  Star Rating   Price  Seats Available  \n",
       "0     04h 45m        20:30          3.8  298.00              8.0  \n",
       "1     04h 15m        20:30          4.1  298.00              7.0  \n",
       "2     04h 45m        16:15          4.2  442.46             21.0  \n",
       "3     05h 15m        16:45          4.1  450.00              6.0  \n",
       "4     04h 00m        17:00          4.5  388.00              1.0  \n",
       "...       ...          ...          ...     ...              ...  \n",
       "4933  04h 15m        18:55          3.0  300.00             32.0  \n",
       "4934  04h 40m        04:00          3.0  300.00             32.0  \n",
       "4935  04h 00m        23:00          3.0  300.00             32.0  \n",
       "4936  05h 10m        03:25          3.0  300.00             32.0  \n",
       "4937  04h 00m        18:30          3.0  300.00             32.0  \n",
       "\n",
       "[4938 rows x 10 columns]"
      ]
     },
     "execution_count": 8,
     "metadata": {},
     "output_type": "execute_result"
    }
   ],
   "source": [
    "Al_df"
   ]
  },
  {
   "cell_type": "code",
   "execution_count": 9,
   "id": "a60af3e0",
   "metadata": {},
   "outputs": [
    {
     "name": "stdout",
     "output_type": "stream",
     "text": [
      "<class 'pandas.core.frame.DataFrame'>\n",
      "RangeIndex: 4938 entries, 0 to 4937\n",
      "Data columns (total 10 columns):\n",
      " #   Column           Non-Null Count  Dtype  \n",
      "---  ------           --------------  -----  \n",
      " 0   Route Name       4938 non-null   object \n",
      " 1   Route Link       4938 non-null   object \n",
      " 2   Bus Name         4938 non-null   object \n",
      " 3   Bus Type         4938 non-null   object \n",
      " 4   Departure Time   4938 non-null   object \n",
      " 5   Duration         4938 non-null   object \n",
      " 6   Arrival Time     4938 non-null   object \n",
      " 7   Star Rating      4938 non-null   float64\n",
      " 8   Price            4938 non-null   float64\n",
      " 9   Seats Available  4938 non-null   float64\n",
      "dtypes: float64(3), object(7)\n",
      "memory usage: 385.9+ KB\n"
     ]
    }
   ],
   "source": [
    "Al_df.info()"
   ]
  },
  {
   "cell_type": "code",
   "execution_count": 10,
   "id": "9b04861b",
   "metadata": {},
   "outputs": [
    {
     "name": "stdout",
     "output_type": "stream",
     "text": [
      "Route Name          object\n",
      "Route Link          object\n",
      "Bus Name            object\n",
      "Bus Type            object\n",
      "Departure Time      object\n",
      "Duration            object\n",
      "Arrival Time        object\n",
      "Star Rating        float64\n",
      "Price              float64\n",
      "Seats Available    float64\n",
      "dtype: object\n"
     ]
    }
   ],
   "source": [
    "print(Al_df.dtypes)"
   ]
  },
  {
   "cell_type": "code",
   "execution_count": 11,
   "id": "8518619b",
   "metadata": {},
   "outputs": [],
   "source": [
    "path =r\"C:\\Users\\USER\\OneDrive\\Desktop\\red bus\\Redbus_data\\Redbus_data\\Al_df.csv\"\n",
    "Al_df.to_csv(path, index = False)"
   ]
  },
  {
   "cell_type": "code",
   "execution_count": 12,
   "id": "708ec153",
   "metadata": {},
   "outputs": [
    {
     "name": "stdout",
     "output_type": "stream",
     "text": [
      "Remaining rows after dropping null bus_name: 4938\n"
     ]
    }
   ],
   "source": [
    "# Drop rows where bus_name is null\n",
    "Al_df.dropna(subset=[\"Bus Name\"],inplace=True)\n",
    "\n",
    "# Optional: Check the shape of the DataFrame to see how many rows were dropped\n",
    "print(f\"Remaining rows after dropping null bus_name: {Al_df.shape[0]}\")"
   ]
  },
  {
   "cell_type": "code",
   "execution_count": 13,
   "id": "c47f3072",
   "metadata": {},
   "outputs": [
    {
     "name": "stdout",
     "output_type": "stream",
     "text": [
      "Count of null values in 'Bus_name': 0\n"
     ]
    }
   ],
   "source": [
    "# Count of null values in the bus_name column\n",
    "null_count = Al_df[\"Bus Name\"].isnull().sum()\n",
    "\n",
    "print(f\"Count of null values in 'Bus_name': {null_count}\")"
   ]
  },
  {
   "cell_type": "code",
   "execution_count": 14,
   "id": "01569325",
   "metadata": {},
   "outputs": [
    {
     "name": "stdout",
     "output_type": "stream",
     "text": [
      "Count of null values in 'Bus Type': 0\n"
     ]
    }
   ],
   "source": [
    "# Count of null values in the 'Bus Type' column\n",
    "null_count = Al_df[\"Bus Type\"].isnull().sum()\n",
    "\n",
    "print(f\"Count of null values in 'Bus Type': {null_count}\")\n"
   ]
  },
  {
   "cell_type": "code",
   "execution_count": 15,
   "id": "3c748e87",
   "metadata": {},
   "outputs": [
    {
     "name": "stdout",
     "output_type": "stream",
     "text": [
      "Remaining rows after dropping null bus_type: 4938\n"
     ]
    }
   ],
   "source": [
    "# Drop rows where bus_type is null\n",
    "Al_df.dropna(subset=[\"Bus Type\"],inplace=True)\n",
    "\n",
    "# Optional: Check the shape of the DataFrame to see how many rows were dropped\n",
    "print(f\"Remaining rows after dropping null bus_type: {Al_df.shape[0]}\")"
   ]
  },
  {
   "cell_type": "code",
   "execution_count": 16,
   "id": "ac8c73f1",
   "metadata": {},
   "outputs": [],
   "source": [
    "import mysql.connector\n",
    "\n",
    "connection = mysql.connector.connect(\n",
    "  host = \"gateway01.ap-southeast-1.prod.aws.tidbcloud.com\",\n",
    "  port = 4000,\n",
    "  user = \"3LwfumS4VReTvMP.root\",\n",
    "  password = \"Vkv8T8iwdhFqvIqK\",\n",
    "  database = \"redbus\",\n",
    ")\n",
    "\n",
    "# Create a cursor from the connection\n",
    "my_cursor = connection.cursor()"
   ]
  },
  {
   "cell_type": "code",
   "execution_count": 17,
   "id": "4438a671",
   "metadata": {},
   "outputs": [
    {
     "name": "stdout",
     "output_type": "stream",
     "text": [
      "Table Created successfully\n"
     ]
    }
   ],
   "source": [
    "# Table Creation\n",
    "my_cursor.execute(\"\"\"CREATE TABLE IF NOT EXISTS bus_details(\n",
    "                  ID INT AUTO_INCREMENT PRIMARY KEY,\n",
    "                  Route_name VARCHAR(255) NULL,\n",
    "                  Route_link VARCHAR(255) NULL,\n",
    "                  Bus_name VARCHAR(255) NOT NULL,\n",
    "                  Bus_type VARCHAR(255) NOT NULL,\n",
    "                  Start_time VARCHAR(255) NOT NULL,\n",
    "                  Total_duration VARCHAR(255) NOT NULL,\n",
    "                  End_time VARCHAR(255) NOT NULL,\n",
    "                  Ratings Float NULL,\n",
    "                  Price FLOAT NULL,\n",
    "                  Seats_Available VARCHAR(255) NOT NULL\n",
    "                  \n",
    "                  \n",
    "                  \n",
    "                  )\"\"\")\n",
    "print(\"Table Created successfully\")"
   ]
  },
  {
   "cell_type": "code",
   "execution_count": 18,
   "id": "052a891e",
   "metadata": {},
   "outputs": [
    {
     "name": "stdout",
     "output_type": "stream",
     "text": [
      "Values inserted successfully\n"
     ]
    }
   ],
   "source": [
    "# SQL query to insert data into bus_details table\n",
    "insert_query = '''INSERT INTO bus_details(\n",
    "                    Route_name,\n",
    "                    Route_link,\n",
    "                    Bus_name,\n",
    "                    Bus_type,\n",
    "                    Start_time,\n",
    "                    Total_duration,\n",
    "                    End_time,\n",
    "                    Ratings,\n",
    "                    Price,\n",
    "                    Seats_Available)\n",
    "                  VALUES(%s, %s, %s, %s, %s, %s, %s, %s, %s, %s)'''\n",
    "data = Al_df.values.tolist()\n",
    "\n",
    "my_cursor.executemany(insert_query, data)\n",
    "\n",
    "connection.commit()\n",
    "\n",
    "print(\"Values inserted successfully\")"
   ]
  }
 ],
 "metadata": {
  "kernelspec": {
   "display_name": "Python 3",
   "language": "python",
   "name": "python3"
  },
  "language_info": {
   "codemirror_mode": {
    "name": "ipython",
    "version": 3
   },
   "file_extension": ".py",
   "mimetype": "text/x-python",
   "name": "python",
   "nbconvert_exporter": "python",
   "pygments_lexer": "ipython3",
   "version": "3.13.5"
  }
 },
 "nbformat": 4,
 "nbformat_minor": 5
}
